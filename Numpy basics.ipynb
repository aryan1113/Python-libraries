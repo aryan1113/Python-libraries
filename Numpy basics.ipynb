{
 "cells": [
  {
   "cell_type": "code",
   "execution_count": 2,
   "id": "e353e709",
   "metadata": {},
   "outputs": [
    {
     "name": "stdout",
     "output_type": "stream",
     "text": [
      "1 2\n",
      "5 12\n"
     ]
    }
   ],
   "source": [
    "import numpy as np\n",
    "a=np.array([1,2,3,4,5])\n",
    "b=np.array([[1,2,3,33,54,4],[4,3,4,5,6,65]])\n",
    "print(a.ndim,b.ndim)\n",
    "print(a.size,b.size) #for using size, if it is 2-D array, both arrays should be of same size"
   ]
  },
  {
   "cell_type": "code",
   "execution_count": 3,
   "id": "62e6b8bc",
   "metadata": {},
   "outputs": [
    {
     "name": "stdout",
     "output_type": "stream",
     "text": [
      "[  1  21  41  61  81 101]\n"
     ]
    }
   ],
   "source": [
    "a=np.arange(1,110,20) #start,stop,increment\n",
    "print(a)"
   ]
  },
  {
   "cell_type": "code",
   "execution_count": 4,
   "id": "f42fb2d9",
   "metadata": {},
   "outputs": [
    {
     "name": "stdout",
     "output_type": "stream",
     "text": [
      "[[0.82744677 0.15322839 0.91516737]\n",
      " [0.42907085 0.33271922 0.35960215]]\n",
      "2\n"
     ]
    }
   ],
   "source": [
    "c=np.random.rand(2,3) #to make matrix of random numbers, 2by3 matrix\n",
    "print(c)\n",
    "print(c.ndim)   "
   ]
  },
  {
   "cell_type": "code",
   "execution_count": 5,
   "id": "8ba5a327",
   "metadata": {},
   "outputs": [
    {
     "name": "stdout",
     "output_type": "stream",
     "text": [
      "[  1   2   3   4   5   6   7   8   9  10  11  12  13  14  15  16  17  18\n",
      "  19  20  21  22  23  24  25  26  27  28  29  30  31  32  33  34  35  36\n",
      "  37  38  39  40  41  42  43  44  45  46  47  48  49  50  51  52  53  54\n",
      "  55  56  57  58  59  60  61  62  63  64  65  66  67  68  69  70  71  72\n",
      "  73  74  75  76  77  78  79  80  81  82  83  84  85  86  87  88  89  90\n",
      "  91  92  93  94  95  96  97  98  99 100]\n",
      "\n",
      "[[  1   2   3   4   5   6   7   8   9  10]\n",
      " [ 11  12  13  14  15  16  17  18  19  20]\n",
      " [ 21  22  23  24  25  26  27  28  29  30]\n",
      " [ 31  32  33  34  35  36  37  38  39  40]\n",
      " [ 41  42  43  44  45  46  47  48  49  50]\n",
      " [ 51  52  53  54  55  56  57  58  59  60]\n",
      " [ 61  62  63  64  65  66  67  68  69  70]\n",
      " [ 71  72  73  74  75  76  77  78  79  80]\n",
      " [ 81  82  83  84  85  86  87  88  89  90]\n",
      " [ 91  92  93  94  95  96  97  98  99 100]]\n"
     ]
    }
   ],
   "source": [
    "#Making something an array\n",
    "D=np.arange(1,101)\n",
    "print(D)\n",
    "print()\n",
    "\n",
    "D=D.reshape(10,10)    #make this into matrix of 10by10\n",
    "# D=np.arange(100).reshape(5,20)\n",
    "print(D)"
   ]
  },
  {
   "cell_type": "code",
   "execution_count": 6,
   "id": "3b9aec5c",
   "metadata": {},
   "outputs": [
    {
     "name": "stdout",
     "output_type": "stream",
     "text": [
      "[3 4 5 6 7 8 9]\n",
      "[345   4   5   6   7   8   9]\n",
      "[  1   2 345   4   5   6   7   8   9]\n",
      "\n",
      "[345   4   5   6   7   8   9]\n",
      "[1 2 3 4 5 6 7 8 9]\n"
     ]
    }
   ],
   "source": [
    "#Use copy to create a copy\n",
    "a=np.arange(100)\n",
    "b=a[3:10]\n",
    "print(b)\n",
    "b[0]=345\n",
    "print(b)\n",
    "print(a[1:10]) #Here we see even a has been changed\n",
    "\n",
    "print()\n",
    "\n",
    "a2=np.arange(100)\n",
    "b2=a2[3:10].copy()\n",
    "b2[0]=345\n",
    "print(b2)\n",
    "print(a2[1:10])"
   ]
  },
  {
   "cell_type": "code",
   "execution_count": 7,
   "id": "0907e48d",
   "metadata": {},
   "outputs": [
    {
     "name": "stdout",
     "output_type": "stream",
     "text": [
      "(array([5], dtype=int64),)\n",
      "(array([7], dtype=int64),)\n"
     ]
    }
   ],
   "source": [
    "b2=np.array([1,2,3,4,23,7,4,3,2,1,4,5])\n",
    "print(np.where(b2==7))\n",
    "print(np.where(a2==7))"
   ]
  },
  {
   "cell_type": "code",
   "execution_count": 8,
   "id": "64b33663",
   "metadata": {},
   "outputs": [
    {
     "name": "stdout",
     "output_type": "stream",
     "text": [
      "[[9.86]\n",
      " [6.13]]\n",
      "\n",
      "[[6. 1. 5. 8.]\n",
      " [6. 3. 4. 3.]\n",
      " [6. 1. 7. 3.]\n",
      " [6. 3. 3. 3.]\n",
      " [3. 7. 6. 4.]]\n",
      "\n",
      "[[0.97315539 0.17850652 0.00385186 0.23475252]\n",
      " [0.32647227 0.14931073 0.85192377 0.20915394]\n",
      " [0.58475451 0.2044273  0.63795655 0.68144152]\n",
      " [0.40435942 0.15159569 0.31444896 0.71606447]\n",
      " [0.6712669  0.9922783  0.04094713 0.40660839]]\n"
     ]
    }
   ],
   "source": [
    "A1=np.round(10*np.random.rand(2,1),2)  #2 decimals\n",
    "A2=np.round(10*np.random.rand(5,4))    #no decimals\n",
    "A3=np.random.rand(5,4)\n",
    "# A4=np.round(np.random.rand(5,4),3)\n",
    "print(A1)\n",
    "print()\n",
    "print(A2)\n",
    "print()\n",
    "print(A3)\n",
    "# print()\n",
    "# print(A4)\n"
   ]
  },
  {
   "cell_type": "code",
   "execution_count": 9,
   "id": "69aa49f5",
   "metadata": {},
   "outputs": [
    {
     "name": "stdout",
     "output_type": "stream",
     "text": [
      "[[7 5 9]\n",
      " [9 3 4]]\n"
     ]
    }
   ],
   "source": [
    "a=np.array([\n",
    "    [1,2,3,76,43],\n",
    "    [7,97,43,70,6],\n",
    "    [7,5,9,3,5],\n",
    "    [9,3,4,667,2]\n",
    "    ])\n",
    "print(a[2:,0:3])"
   ]
  },
  {
   "cell_type": "code",
   "execution_count": 10,
   "id": "cf0e07ad",
   "metadata": {},
   "outputs": [
    {
     "name": "stdout",
     "output_type": "stream",
     "text": [
      "Normal Array\n",
      "[[  1   2   3  76  43]\n",
      " [  7  97  43  70   6]\n",
      " [  7   5   9   3   5]\n",
      " [  9   3   4 667   2]] \n",
      "\n",
      "Sorted Along rows, axis=1\n",
      "[[  1   2   3  43  76]\n",
      " [  6   7  43  70  97]\n",
      " [  3   5   5   7   9]\n",
      " [  2   3   4   9 667]] \n",
      "\n",
      "Sorted Along coloumns, axis=0\n",
      "[[  1   2   3   3   2]\n",
      " [  7   3   4  70   5]\n",
      " [  7   5   9  76   6]\n",
      " [  9  97  43 667  43]]\n"
     ]
    }
   ],
   "source": [
    "# np.sort(a)  pura array sort kardega\n",
    "print('Normal Array')\n",
    "print(a,'\\n')\n",
    "print('Sorted Along rows, axis=1')\n",
    "print(np.sort(a,axis=1),'\\n') #return sorted copy of array, along rows\n",
    "print('Sorted Along coloumns, axis=0')\n",
    "print(np.sort(a,axis=0)) #along coloumns"
   ]
  },
  {
   "cell_type": "code",
   "execution_count": 11,
   "id": "022d4ec4",
   "metadata": {},
   "outputs": [
    {
     "name": "stdout",
     "output_type": "stream",
     "text": [
      "[[  1   2   3  76  43]\n",
      " [  7  97  43  70   6]\n",
      " [  7   5   9   3   5]\n",
      " [  9   3   4 667   2]] \n",
      "\n",
      "[ 76  43  97  43  70 667] \n",
      "\n",
      "[76 43 97 43 70]\n"
     ]
    }
   ],
   "source": [
    "print(a,'\\n')\n",
    "B=a[a>40] #B will have all elements of a which are greater than 40\n",
    "print(B,'\\n')\n",
    "# B.sort()\n",
    "# print(B) printing sorted copy of elements of B\n",
    "\n",
    "# B=a[(a>40) and (a<120)] This will not work as 'and' is not useful here\n",
    "B=a[(a>40) & (a<120)] #Having more than one arguments for selecting elements of B\n",
    "print(B)"
   ]
  },
  {
   "cell_type": "code",
   "execution_count": 12,
   "id": "54465bcd",
   "metadata": {},
   "outputs": [
    {
     "name": "stdout",
     "output_type": "stream",
     "text": [
      "[[  9   3]\n",
      " [  4 667]] \n",
      "\n",
      "[[0]\n",
      " [1]] \n",
      "\n",
      "[[  9   3]\n",
      " [  5 668]]\n"
     ]
    }
   ],
   "source": [
    "c=a[2:4,2:4]\n",
    "print(c,'\\n')\n",
    "z=np.arange(2)\n",
    "# print(z)\n",
    "print(z.reshape(2,1),'\\n')\n",
    "print(c+z.reshape(2,1))"
   ]
  },
  {
   "cell_type": "code",
   "execution_count": 53,
   "id": "e2298ecb",
   "metadata": {},
   "outputs": [
    {
     "name": "stdout",
     "output_type": "stream",
     "text": [
      "26.2 µs ± 2.69 µs per loop (mean ± std. dev. of 7 runs, 10,000 loops each)\n",
      "12.2 µs ± 2.2 µs per loop (mean ± std. dev. of 7 runs, 100,000 loops each)\n"
     ]
    }
   ],
   "source": [
    "import numpy as np\n",
    "b=np.random.rand(10**2)\n",
    "# print(b)\n",
    "%timeit sum(b)\n",
    "# # print(c)\n",
    "%timeit np.sum(b)\n",
    "# # print(d)"
   ]
  },
  {
   "cell_type": "code",
   "execution_count": 54,
   "id": "a9600717",
   "metadata": {},
   "outputs": [
    {
     "name": "stdout",
     "output_type": "stream",
     "text": [
      "84.8 ms ± 3.56 ms per loop (mean ± std. dev. of 7 runs, 10 loops each)\n",
      "20.4 s ± 1.07 s per loop (mean ± std. dev. of 7 runs, 1 loop each)\n"
     ]
    }
   ],
   "source": [
    "b=np.random.rand(10**8)\n",
    "%timeit np.amin(b)\n",
    "# %timeit np.amax(b)\n",
    "\n",
    "def smallest(i):\n",
    "    small=b[0]\n",
    "    for pqrs in i:\n",
    "        if pqrs<small:small=pqrs\n",
    "    return pqrs\n",
    "%timeit smallest(b)"
   ]
  }
 ],
 "metadata": {
  "kernelspec": {
   "display_name": "Python 3 (ipykernel)",
   "language": "python",
   "name": "python3"
  },
  "language_info": {
   "codemirror_mode": {
    "name": "ipython",
    "version": 3
   },
   "file_extension": ".py",
   "mimetype": "text/x-python",
   "name": "python",
   "nbconvert_exporter": "python",
   "pygments_lexer": "ipython3",
   "version": "3.10.4"
  },
  "vscode": {
   "interpreter": {
    "hash": "f66499eb5b0e940f04492bf0ec819b229fb8ec4462842231be199e68991f4583"
   }
  }
 },
 "nbformat": 4,
 "nbformat_minor": 5
}
