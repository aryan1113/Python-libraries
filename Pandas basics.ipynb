{
 "cells": [
  {
   "cell_type": "markdown",
   "metadata": {},
   "source": [
    " * This notebook is for the course : 5-week Data Science Bootcamp by dPhi\n",
    " * As per content of week1, the course curators shared some content for pandas, here is my ipynb for the same\n",
    " * The notebook (https://dphi.tech/learn/5-week_Data_Science_Bootcamp/week-1/205/notebook-introduction-to-pandas) had some exercises which I've tried to solve :)"
   ]
  },
  {
   "cell_type": "code",
   "execution_count": 79,
   "metadata": {},
   "outputs": [],
   "source": [
    "import pandas as pd\n",
    "import numpy as np"
   ]
  },
  {
   "cell_type": "markdown",
   "metadata": {},
   "source": [
    "<h3>Exercise 1"
   ]
  },
  {
   "cell_type": "code",
   "execution_count": 80,
   "metadata": {},
   "outputs": [
    {
     "name": "stdout",
     "output_type": "stream",
     "text": [
      "Addition :\n",
      "0    9\n",
      "1    7\n",
      "2    6\n",
      "3    7\n",
      "4    9\n",
      "dtype: int64\n",
      "Subtraction :\n",
      "0   -7\n",
      "1   -3\n",
      "2    0\n",
      "3    3\n",
      "4    7\n",
      "dtype: int64\n",
      "Multiplication :\n",
      "0     8\n",
      "1    10\n",
      "2     9\n",
      "3    10\n",
      "4     8\n",
      "dtype: int64\n",
      "Division : \n",
      "0    0.125\n",
      "1    0.400\n",
      "2    1.000\n",
      "3    2.500\n",
      "4    8.000\n",
      "dtype: float64\n"
     ]
    }
   ],
   "source": [
    "lst1 = [1, 2, 3, 5, 8]\n",
    "lst2 = [8, 5, 3, 2, 1]\n",
    "s1=pd.Series(lst1)\n",
    "s2=pd.Series(lst2)\n",
    "s3_add=s1+s2\n",
    "s3_diff=s1-s2\n",
    "s3_mul=s1*s2\n",
    "s3_div=s1/s2\n",
    "\n",
    "print('Addition :')\n",
    "print(s3_add)\n",
    "\n",
    "print('Subtraction :')\n",
    "print(s3_diff)\n",
    "\n",
    "print('Multiplication :')\n",
    "print(s3_mul)\n",
    "\n",
    "print('Division : ')\n",
    "print(s3_div)"
   ]
  },
  {
   "cell_type": "markdown",
   "metadata": {},
   "source": [
    "<h3> Exercise 2"
   ]
  },
  {
   "cell_type": "code",
   "execution_count": 81,
   "metadata": {},
   "outputs": [
    {
     "data": {
      "text/plain": [
       "0    45000\n",
       "1    37872\n",
       "2    57923\n",
       "3    68979\n",
       "4    78934\n",
       "5    69897\n",
       "6    56701\n",
       "dtype: int64"
      ]
     },
     "execution_count": 81,
     "metadata": {},
     "output_type": "execute_result"
    }
   ],
   "source": [
    "Amazon_Reviews=pd.Series([45000,37872,57923,68979,78934,69897,56701])\n",
    "Amazon_Reviews"
   ]
  },
  {
   "cell_type": "code",
   "execution_count": 82,
   "metadata": {},
   "outputs": [
    {
     "name": "stdout",
     "output_type": "stream",
     "text": [
      "4    78934\n",
      "5    69897\n",
      "6    56701\n",
      "dtype: int64\n"
     ]
    }
   ],
   "source": [
    "# Get the last three values from Amazon_Reviews using negative indexing.\n",
    "print(Amazon_Reviews[-3:])"
   ]
  },
  {
   "cell_type": "markdown",
   "metadata": {},
   "source": [
    "<h3> Exercise 3 </h3>\n",
    " * Create a Series using the given dictionary\n",
    " * Extract areas for 'Texas', 'New York', and 'Florida' from the created series"
   ]
  },
  {
   "cell_type": "code",
   "execution_count": 83,
   "metadata": {},
   "outputs": [
    {
     "name": "stdout",
     "output_type": "stream",
     "text": [
      "Cali        423967\n",
      "Texas       695662\n",
      "New York    141297\n",
      "Florida     170312\n",
      "Illinois    149995\n",
      "Mumbai        2323\n",
      "Thane         5435\n",
      "Delhi       455544\n",
      "dtype: int64\n",
      "\n",
      "Area of Texas, New York and Florida are 695662 141297 170312 respectively\n"
     ]
    }
   ],
   "source": [
    "area_dict = {'Cali': 423967, 'Texas': 695662, 'New York': 141297,\n",
    "             'Florida': 170312, 'Illinois': 149995,'Mumbai':2323,'Thane':5435,'Delhi':455544}\n",
    "# series as a specialized dict\n",
    "area=pd.Series(area_dict)\n",
    "print(area)\n",
    "print()\n",
    "print('Area of Texas, New York and Florida are',area['Texas'],area['New York'],area['Florida'],'respectively')\n"
   ]
  },
  {
   "cell_type": "code",
   "execution_count": 84,
   "metadata": {},
   "outputs": [
    {
     "name": "stdout",
     "output_type": "stream",
     "text": [
      "Cali        423967\n",
      "Texas       695662\n",
      "New York    141297\n",
      "Florida     170312\n",
      "Illinois    149995\n",
      "Mumbai        2323\n",
      "dtype: int64\n"
     ]
    }
   ],
   "source": [
    "#slicing\n",
    "print(area['Cali':'Mumbai'])"
   ]
  },
  {
   "cell_type": "markdown",
   "metadata": {},
   "source": [
    "<h3>Exercise 5"
   ]
  },
  {
   "cell_type": "markdown",
   "metadata": {},
   "source": [
    "Tasks :\n",
    " * Create a Dataframe object which contains all the lists values as Series. \n",
    " * Delete the rows which contains missing values\n",
    " * Capitalize all the continents in continent column.\n",
    " * Get the length of each country's names."
   ]
  },
  {
   "cell_type": "code",
   "execution_count": 85,
   "metadata": {},
   "outputs": [],
   "source": [
    "country = ['Netherland', 'Germany', 'Peru', 'Israel', 'Madagascar']\n",
    "year = [2002, 2002, 1957, 2007, 1967]\n",
    "area = [16122830.0, np.nan, 9146100.0, 6426679.0, 6334556.0]\n",
    "continent = ['Europe', 'europe', 'Americas', 'asia', 'Africa']"
   ]
  },
  {
   "cell_type": "code",
   "execution_count": 86,
   "metadata": {},
   "outputs": [
    {
     "name": "stdout",
     "output_type": "stream",
     "text": [
      "            0     1           2         3\n",
      "0  Netherland  2002  16122830.0    Europe\n",
      "1     Germany  2002         NaN    europe\n",
      "2        Peru  1957   9146100.0  Americas\n",
      "3      Israel  2007   6426679.0      asia\n",
      "4  Madagascar  1967   6334556.0    Africa\n"
     ]
    }
   ],
   "source": [
    "#Creating dataframe from multiple lists\n",
    "country_info=pd.DataFrame(list(zip(country,year,area,continent)))\n",
    "print(country_info)"
   ]
  },
  {
   "cell_type": "code",
   "execution_count": 87,
   "metadata": {},
   "outputs": [
    {
     "name": "stdout",
     "output_type": "stream",
     "text": [
      "      Country  Year      Income Continent\n",
      "0  Netherland  2002  16122830.0    Europe\n",
      "1     Germany  2002         NaN    europe\n",
      "2        Peru  1957   9146100.0  Americas\n",
      "3      Israel  2007   6426679.0      asia\n",
      "4  Madagascar  1967   6334556.0    Africa\n"
     ]
    }
   ],
   "source": [
    "#changing column names\n",
    "country_info = country_info.rename(columns={0:'Country',1:'Year',2:'Income',3:'Continent'})\n",
    "print(country_info)"
   ]
  },
  {
   "cell_type": "code",
   "execution_count": 88,
   "metadata": {},
   "outputs": [
    {
     "data": {
      "text/html": [
       "<div>\n",
       "<style scoped>\n",
       "    .dataframe tbody tr th:only-of-type {\n",
       "        vertical-align: middle;\n",
       "    }\n",
       "\n",
       "    .dataframe tbody tr th {\n",
       "        vertical-align: top;\n",
       "    }\n",
       "\n",
       "    .dataframe thead th {\n",
       "        text-align: right;\n",
       "    }\n",
       "</style>\n",
       "<table border=\"1\" class=\"dataframe\">\n",
       "  <thead>\n",
       "    <tr style=\"text-align: right;\">\n",
       "      <th></th>\n",
       "      <th>Country</th>\n",
       "      <th>Year</th>\n",
       "      <th>Income</th>\n",
       "      <th>Continent</th>\n",
       "    </tr>\n",
       "  </thead>\n",
       "  <tbody>\n",
       "    <tr>\n",
       "      <th>0</th>\n",
       "      <td>Netherland</td>\n",
       "      <td>2002</td>\n",
       "      <td>16122830.0</td>\n",
       "      <td>Europe</td>\n",
       "    </tr>\n",
       "    <tr>\n",
       "      <th>2</th>\n",
       "      <td>Peru</td>\n",
       "      <td>1957</td>\n",
       "      <td>9146100.0</td>\n",
       "      <td>Americas</td>\n",
       "    </tr>\n",
       "    <tr>\n",
       "      <th>3</th>\n",
       "      <td>Israel</td>\n",
       "      <td>2007</td>\n",
       "      <td>6426679.0</td>\n",
       "      <td>asia</td>\n",
       "    </tr>\n",
       "    <tr>\n",
       "      <th>4</th>\n",
       "      <td>Madagascar</td>\n",
       "      <td>1967</td>\n",
       "      <td>6334556.0</td>\n",
       "      <td>Africa</td>\n",
       "    </tr>\n",
       "  </tbody>\n",
       "</table>\n",
       "</div>"
      ],
      "text/plain": [
       "      Country  Year      Income Continent\n",
       "0  Netherland  2002  16122830.0    Europe\n",
       "2        Peru  1957   9146100.0  Americas\n",
       "3      Israel  2007   6426679.0      asia\n",
       "4  Madagascar  1967   6334556.0    Africa"
      ]
     },
     "execution_count": 88,
     "metadata": {},
     "output_type": "execute_result"
    }
   ],
   "source": [
    "#Deleting rows with missing values\n",
    "country_info=country_info.dropna()\n",
    "country_info"
   ]
  },
  {
   "cell_type": "code",
   "execution_count": 89,
   "metadata": {},
   "outputs": [
    {
     "name": "stdout",
     "output_type": "stream",
     "text": [
      "      Country  Year      Income Continent\n",
      "0  Netherland  2002  16122830.0    Europe\n",
      "2        Peru  1957   9146100.0  Americas\n",
      "3      Israel  2007   6426679.0      Asia\n",
      "4  Madagascar  1967   6334556.0    Africa\n"
     ]
    }
   ],
   "source": [
    "#Capitalize continent name\n",
    "country_info['Continent']=country_info['Continent'].str.capitalize()\n",
    "print(country_info)"
   ]
  },
  {
   "cell_type": "code",
   "execution_count": 90,
   "metadata": {},
   "outputs": [
    {
     "name": "stdout",
     "output_type": "stream",
     "text": [
      "Length of country name : Netherland => 10\n",
      "Length of country name : Peru => 4\n",
      "Length of country name : Israel => 6\n",
      "Length of country name : Madagascar => 10\n"
     ]
    }
   ],
   "source": [
    "#To get length of each country's name\n",
    "for z in country_info['Country']:\n",
    "    print('Length of country name : '+z+' => ' +str(len(z)))"
   ]
  },
  {
   "cell_type": "markdown",
   "metadata": {},
   "source": [
    "<h3> Exercise 6 </h3>\n",
    "\n",
    " * Create a Dataframe object which contains all the lists values as Series. \n",
    " * The final DataFrame should be named as country_gdp, containing 2 columns and 5 rows.\n",
    " * Concatenate the two dataframes: country_info and country_gdp with axis=0 and name it concat_data\n",
    " * Check if there are any null values in concat_data\n",
    " * Find total numer of missing values in each column. hint: Use .isnull() and .sum() functions"
   ]
  },
  {
   "cell_type": "code",
   "execution_count": 91,
   "metadata": {},
   "outputs": [
    {
     "data": {
      "text/html": [
       "<div>\n",
       "<style scoped>\n",
       "    .dataframe tbody tr th:only-of-type {\n",
       "        vertical-align: middle;\n",
       "    }\n",
       "\n",
       "    .dataframe tbody tr th {\n",
       "        vertical-align: top;\n",
       "    }\n",
       "\n",
       "    .dataframe thead th {\n",
       "        text-align: right;\n",
       "    }\n",
       "</style>\n",
       "<table border=\"1\" class=\"dataframe\">\n",
       "  <thead>\n",
       "    <tr style=\"text-align: right;\">\n",
       "      <th></th>\n",
       "      <th>Country</th>\n",
       "      <th>Paisa</th>\n",
       "    </tr>\n",
       "  </thead>\n",
       "  <tbody>\n",
       "    <tr>\n",
       "      <th>0</th>\n",
       "      <td>Netherland</td>\n",
       "      <td>33724.757780</td>\n",
       "    </tr>\n",
       "    <tr>\n",
       "      <th>1</th>\n",
       "      <td>Germany</td>\n",
       "      <td>30035.801980</td>\n",
       "    </tr>\n",
       "    <tr>\n",
       "      <th>2</th>\n",
       "      <td>Peru</td>\n",
       "      <td>4245.256698</td>\n",
       "    </tr>\n",
       "    <tr>\n",
       "      <th>3</th>\n",
       "      <td>Israel</td>\n",
       "      <td>25523.277100</td>\n",
       "    </tr>\n",
       "    <tr>\n",
       "      <th>4</th>\n",
       "      <td>Madagascar</td>\n",
       "      <td>1634.047282</td>\n",
       "    </tr>\n",
       "  </tbody>\n",
       "</table>\n",
       "</div>"
      ],
      "text/plain": [
       "      Country         Paisa\n",
       "0  Netherland  33724.757780\n",
       "1     Germany  30035.801980\n",
       "2        Peru   4245.256698\n",
       "3      Israel  25523.277100\n",
       "4  Madagascar   1634.047282"
      ]
     },
     "execution_count": 91,
     "metadata": {},
     "output_type": "execute_result"
    }
   ],
   "source": [
    "country = ['Netherland', 'Germany', 'Peru', 'Israel', 'Madagascar']\n",
    "gdp_per_cap = [33724.757780, 30035.801980, 4245.256698, 25523.277100, 1634.047282]\n",
    "country_gdp=pd.DataFrame(list(zip(country,gdp_per_cap)))\n",
    "\n",
    "#renaming for making it easy to read\n",
    "country_gdp = country_gdp.rename(columns={0:'Country',1:'Paisa'})\n",
    "\n",
    "country_gdp"
   ]
  },
  {
   "cell_type": "code",
   "execution_count": 92,
   "metadata": {},
   "outputs": [
    {
     "data": {
      "text/plain": [
       "0     Netherland\n",
       "1        Germany\n",
       "2           Peru\n",
       "3         Israel\n",
       "4     Madagascar\n",
       "0    33724.75778\n",
       "1    30035.80198\n",
       "2    4245.256698\n",
       "3     25523.2771\n",
       "4    1634.047282\n",
       "dtype: object"
      ]
     },
     "execution_count": 92,
     "metadata": {},
     "output_type": "execute_result"
    }
   ],
   "source": [
    "s1=pd.Series(country)\n",
    "s2=pd.Series(gdp_per_cap)\n",
    "concat_data=pd.concat([s1,s2], axis=0)\n",
    "concat_data"
   ]
  },
  {
   "cell_type": "code",
   "execution_count": 93,
   "metadata": {},
   "outputs": [
    {
     "data": {
      "text/plain": [
       "Country    0\n",
       "Paisa      0\n",
       "dtype: int64"
      ]
     },
     "execution_count": 93,
     "metadata": {},
     "output_type": "execute_result"
    }
   ],
   "source": [
    "#Checking for null values in dataframe\n",
    "country_gdp.isnull().sum()"
   ]
  },
  {
   "cell_type": "code",
   "execution_count": 94,
   "metadata": {},
   "outputs": [
    {
     "name": "stdout",
     "output_type": "stream",
     "text": [
      "The number of null/nan entries in the dataset is : 0\n"
     ]
    }
   ],
   "source": [
    "#Checking for null values in series\n",
    "print('The number of null/nan entries in the dataset is :',concat_data.isnull().sum())"
   ]
  }
 ],
 "metadata": {
  "kernelspec": {
   "display_name": "Python 3.10.6 64-bit (microsoft store)",
   "language": "python",
   "name": "python3"
  },
  "language_info": {
   "codemirror_mode": {
    "name": "ipython",
    "version": 3
   },
   "file_extension": ".py",
   "mimetype": "text/x-python",
   "name": "python",
   "nbconvert_exporter": "python",
   "pygments_lexer": "ipython3",
   "version": "3.10.6"
  },
  "orig_nbformat": 4,
  "vscode": {
   "interpreter": {
    "hash": "f66499eb5b0e940f04492bf0ec819b229fb8ec4462842231be199e68991f4583"
   }
  }
 },
 "nbformat": 4,
 "nbformat_minor": 2
}
